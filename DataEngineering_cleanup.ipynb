{
 "cells": [
  {
   "cell_type": "code",
   "execution_count": null,
   "id": "0adbaf56",
   "metadata": {},
   "outputs": [],
   "source": [
    "import crossref_commons.retrieval"
   ]
  },
  {
   "cell_type": "code",
   "execution_count": null,
   "id": "d1ad32c5",
   "metadata": {},
   "outputs": [],
   "source": [
    "import pandas as pd\n",
    "import numpy as np"
   ]
  },
  {
   "cell_type": "code",
   "execution_count": null,
   "id": "c135e701",
   "metadata": {},
   "outputs": [],
   "source": [
    "articles = pd.read_json('article_data.json', lines=True)"
   ]
  },
  {
   "cell_type": "code",
   "execution_count": null,
   "id": "44ba742e",
   "metadata": {
    "scrolled": true
   },
   "outputs": [],
   "source": [
    "articles"
   ]
  },
  {
   "cell_type": "code",
   "execution_count": null,
   "id": "13ac37ea",
   "metadata": {
    "scrolled": true
   },
   "outputs": [],
   "source": [
    "#import name csv table\n",
    "names = pd.read_csv('wgnd_noctry.csv')  "
   ]
  },
  {
   "cell_type": "code",
   "execution_count": null,
   "id": "3314be79",
   "metadata": {
    "scrolled": true
   },
   "outputs": [],
   "source": [
    "names"
   ]
  },
  {
   "cell_type": "code",
   "execution_count": null,
   "id": "8b8cec5c",
   "metadata": {},
   "outputs": [],
   "source": [
    "#drop names where gender is unidentified\n",
    "names = names[names['gender']!='?']"
   ]
  },
  {
   "cell_type": "markdown",
   "id": "ee1f2fbb",
   "metadata": {},
   "source": [
    "# DATA CLEANING"
   ]
  },
  {
   "cell_type": "markdown",
   "id": "b21f0512",
   "metadata": {},
   "source": [
    "Siin on idee tekitada dataframed, mis vastavad juba dimension tabelitele (ilma primary key-ta), siis oleks hea nad parquet failidena lugeda parquet faili välja ning seejärel lugeda teises funktsioonis parquet failid sisse ja sisestada tabelitesse korraga. See peaks olema kiirem ja lahendama probleemi, et funktsioonide vahel ei saa andmeid jagada dag-is."
   ]
  },
  {
   "cell_type": "code",
   "execution_count": null,
   "id": "13b95326",
   "metadata": {},
   "outputs": [],
   "source": [
    "#drop all values where doi is null\n",
    "articles = articles[articles['doi'].notna()]\n",
    "#drop all values where name is null\n",
    "articles = articles[articles['authors'].notna()]"
   ]
  },
  {
   "cell_type": "code",
   "execution_count": null,
   "id": "9a632f5a",
   "metadata": {
    "scrolled": true
   },
   "outputs": [],
   "source": [
    "articles"
   ]
  },
  {
   "cell_type": "code",
   "execution_count": null,
   "id": "df0546c1",
   "metadata": {
    "scrolled": true
   },
   "outputs": [],
   "source": [
    "#drop abstract, report-no and license\n",
    "articles = articles.drop(columns=['report-no', 'abstract','license','submitter'],axis=1)"
   ]
  },
  {
   "cell_type": "code",
   "execution_count": null,
   "id": "a7d501b5",
   "metadata": {
    "scrolled": true
   },
   "outputs": [],
   "source": [
    "articles = articles.fillna(value=np.nan)\n",
    "articles['doi'] = articles['doi'].astype('str') "
   ]
  },
  {
   "cell_type": "code",
   "execution_count": null,
   "id": "5a22a854",
   "metadata": {},
   "outputs": [],
   "source": [
    "articles[\"pages\"] = articles[\"comments\"].str.findall(\"\\d+ page\")\n",
    "articles[\"pages\"] = articles[\"pages\"].replace(np.nan)\n",
    "articles['pages'] = articles['pages'].astype('str') \n",
    "articles[\"pages\"] = articles[\"pages\"].replace(\"[]\",\"0\")\n",
    "articles[\"pages\"] = articles[\"pages\"].str.extract(\"(\\d+)\")"
   ]
  },
  {
   "cell_type": "code",
   "execution_count": null,
   "id": "0730013c",
   "metadata": {},
   "outputs": [],
   "source": [
    "articles[\"figures\"] = articles[\"comments\"].str.findall(\"\\d+ figure\")\n",
    "articles[\"figures\"] = articles[\"figures\"].replace(np.nan)\n",
    "articles['figures'] = articles['figures'].astype('str') \n",
    "articles[\"figures\"] = articles[\"figures\"].replace(\"[]\",\"0\")\n",
    "articles[\"figures\"] = articles[\"figures\"].str.extract(\"(\\d+)\")"
   ]
  },
  {
   "cell_type": "code",
   "execution_count": null,
   "id": "eedfec98",
   "metadata": {},
   "outputs": [],
   "source": [
    "articles = articles.drop(columns=['comments'],axis=1)"
   ]
  },
  {
   "cell_type": "code",
   "execution_count": null,
   "id": "932fb7fe",
   "metadata": {
    "scrolled": false
   },
   "outputs": [],
   "source": [
    "articles['id'] = articles['id'].astype('str') \n",
    "articles[\"year\"] = 2000 + articles[\"id\"].str[0].astype(int)\n",
    "articles[\"month\"] = articles[\"id\"].str[1:3].astype(int)"
   ]
  },
  {
   "cell_type": "code",
   "execution_count": null,
   "id": "fd965964",
   "metadata": {},
   "outputs": [],
   "source": [
    "#version table\n",
    "version = articles[[\"id\",\"doi\",\"versions\"]]\n",
    "authors = articles[[\"id\",\"doi\",\"authors\",\"authors_parsed\"]]\n",
    "categories = articles[[\"id\",\"doi\",\"categories\"]]\n",
    "#columns to drop-versions, authors,authors_parsed"
   ]
  },
  {
   "cell_type": "code",
   "execution_count": null,
   "id": "f6be41d2",
   "metadata": {},
   "outputs": [],
   "source": [
    "#TODO\n",
    "#create dimension table dataframes\n",
    "#must parse author table with names, versions table,\n"
   ]
  },
  {
   "cell_type": "markdown",
   "id": "b6dc44d0",
   "metadata": {},
   "source": [
    "## DATA ENRICHING"
   ]
  },
  {
   "cell_type": "code",
   "execution_count": null,
   "id": "ebe5a94d",
   "metadata": {
    "scrolled": true
   },
   "outputs": [],
   "source": [
    "#näide crossref api kasutamisest, et saada viiteid\n",
    "d = crossref_commons.retrieval.get_publication_as_json('10.1103/PhysRevD.76.013009')\n",
    "df = pd.json_normalize(d, 'reference')\n",
    "\n",
    "notYetIncluded = df[~df[\"DOI\"].astype(str).isin(articles[\"doi\"].astype(str))]"
   ]
  },
  {
   "cell_type": "code",
   "execution_count": null,
   "id": "d4667573",
   "metadata": {},
   "outputs": [],
   "source": [
    "#select n articles from category, if article with same doi available save doi1-doi2\n",
    "#töötab põhimõttel, et kasutab vaid olemasolevaid artikleid\n",
    "find_citations = articles.groupby('categories').head(1).reset_index(drop=True)\n",
    "find_citations = find_citations[[\"id\",\"doi\"]]\n",
    "find_citations"
   ]
  },
  {
   "cell_type": "code",
   "execution_count": null,
   "id": "613dc139",
   "metadata": {
    "scrolled": true
   },
   "outputs": [],
   "source": [
    "#VÄGA AEGLANE!!! (ja teeb midagi ikka valesti)\n",
    "final_citations = pd.DataFrame({'doi_1' : [],'doi_2' : []})\n",
    "doi_array = find_citations[\"doi\"]\n",
    "#i=0\n",
    "for doi in doi_array:\n",
    "    try:\n",
    "        d = crossref_commons.retrieval.get_publication_as_json(doi)\n",
    "        df = pd.json_normalize(d, 'reference')\n",
    "        df = df[~df[\"DOI\"].astype(str).isin(articles[\"doi\"].astype(str))]\n",
    "        df[\"doi_2\"] = df[\"DOI\"]\n",
    "        df[\"doi_1\"] = doi\n",
    "        df = df[[\"doi_1\",\"doi_2\"]]\n",
    "        final_citations = pd.concat([final_citations,df])\n",
    "        \n",
    "        #print(i)\n",
    "        #i+=1\n",
    "    except:\n",
    "        #except when api request with doi does not exist\n",
    "        #see pole best practice, aga atm teeb töö ära \n",
    "        pass"
   ]
  },
  {
   "cell_type": "code",
   "execution_count": null,
   "id": "e41d6ec5",
   "metadata": {},
   "outputs": [],
   "source": [
    "final_citations"
   ]
  },
  {
   "cell_type": "code",
   "execution_count": null,
   "id": "ba57df67",
   "metadata": {},
   "outputs": [],
   "source": [
    "df.to_csv('citations.csv') "
   ]
  },
  {
   "cell_type": "code",
   "execution_count": null,
   "id": "f66dcb6e",
   "metadata": {},
   "outputs": [],
   "source": []
  }
 ],
 "metadata": {
  "kernelspec": {
   "display_name": "Python 3 (ipykernel)",
   "language": "python",
   "name": "python3"
  },
  "language_info": {
   "codemirror_mode": {
    "name": "ipython",
    "version": 3
   },
   "file_extension": ".py",
   "mimetype": "text/x-python",
   "name": "python",
   "nbconvert_exporter": "python",
   "pygments_lexer": "ipython3",
   "version": "3.10.4"
  }
 },
 "nbformat": 4,
 "nbformat_minor": 5
}
